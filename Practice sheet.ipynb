{
 "cells": [
  {
   "cell_type": "markdown",
   "id": "9056c778",
   "metadata": {},
   "source": [
    "##### Given the participants' score sheet for your University Sports Day, you are required to find the runner-up score. You are given  scores. Store them in a list and find the score of the runner-up."
   ]
  },
  {
   "cell_type": "code",
   "execution_count": 1,
   "id": "73ac90b7",
   "metadata": {},
   "outputs": [
    {
     "name": "stdout",
     "output_type": "stream",
     "text": [
      "Total number of participants: 2\n",
      "Score of each participants: 1 2\n",
      "Runner-up's score:  1\n"
     ]
    }
   ],
   "source": [
    "if __name__ == '__main__':\n",
    "    n = int(input(\"Total number of participants: \"))\n",
    "    arr = map(int, input(\"Score of each participants: \").split())\n",
    "    print(\"Runner-up's score: \",sorted(set(arr), reverse=True)[1])"
   ]
  },
  {
   "cell_type": "markdown",
   "id": "dd5a9580",
   "metadata": {},
   "source": [
    "##### Given the names and grades for each student in a class of  students, store them in a nested list and print the name(s) of any student(s) having the second lowest grade. Note: If there are multiple students with the second lowest grade, order their names alphabetically and print each name on a new line."
   ]
  },
  {
   "cell_type": "code",
   "execution_count": null,
   "id": "2541335d",
   "metadata": {},
   "outputs": [],
   "source": [
    "if __name__ == '__main__':\n",
    "    final = []\n",
    "    for _ in range(int(input())):\n",
    "        name = input()\n",
    "        score = float(input())\n",
    "        student = [name,score]\n",
    "        final.append(student)\n",
    "    marks = [m[1] for m in final]\n",
    "    marks.sort()\n",
    "    marksset = []\n",
    "    for i in marks:\n",
    "        if i not in marksset:\n",
    "            marksset.append(i)\n",
    "    reqmark = marksset[1]\n",
    "    names = []\n",
    "    for x in final:\n",
    "        if x[1] == reqmark:\n",
    "            names.append(x[0])\n",
    "    names.sort()\n",
    "    for i in names:\n",
    "        print(i)"
   ]
  },
  {
   "cell_type": "code",
   "execution_count": null,
   "id": "d5a7845d",
   "metadata": {},
   "outputs": [],
   "source": []
  },
  {
   "cell_type": "code",
   "execution_count": null,
   "id": "f40f6f7e",
   "metadata": {},
   "outputs": [],
   "source": []
  }
 ],
 "metadata": {
  "kernelspec": {
   "display_name": "Python 3 (ipykernel)",
   "language": "python",
   "name": "python3"
  },
  "language_info": {
   "codemirror_mode": {
    "name": "ipython",
    "version": 3
   },
   "file_extension": ".py",
   "mimetype": "text/x-python",
   "name": "python",
   "nbconvert_exporter": "python",
   "pygments_lexer": "ipython3",
   "version": "3.10.10"
  }
 },
 "nbformat": 4,
 "nbformat_minor": 5
}
