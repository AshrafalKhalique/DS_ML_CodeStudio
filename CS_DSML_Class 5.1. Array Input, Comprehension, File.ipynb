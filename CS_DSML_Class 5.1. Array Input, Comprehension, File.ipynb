{
 "cells": [
  {
   "cell_type": "code",
   "execution_count": 2,
   "id": "valid-school",
   "metadata": {},
   "outputs": [
    {
     "name": "stdout",
     "output_type": "stream",
     "text": [
      "Array Size: 2\n",
      "1\n",
      "2\n",
      "[1, 2]\n"
     ]
    }
   ],
   "source": [
    "# Entering array input for every element \n",
    "lst = []\n",
    "\n",
    "n = int(input(\"Array Size: \"))\n",
    "\n",
    "for i in range(n):\n",
    "    element = int(input())\n",
    "    lst.append(element)\n",
    "    \n",
    "print(lst)"
   ]
  },
  {
   "cell_type": "code",
   "execution_count": 12,
   "id": "freelance-consortium",
   "metadata": {},
   "outputs": [
    {
     "name": "stdout",
     "output_type": "stream",
     "text": [
      "Take array input: 1 2\n"
     ]
    },
    {
     "data": {
      "text/plain": [
       "[1, 2]"
      ]
     },
     "execution_count": 12,
     "metadata": {},
     "output_type": "execute_result"
    }
   ],
   "source": [
    "# Entering array input only once \n",
    "lst1 = list(map(int, input(\"Take array input: \").strip().split()))\n",
    "lst1"
   ]
  },
  {
   "cell_type": "code",
   "execution_count": 13,
   "id": "german-maple",
   "metadata": {},
   "outputs": [
    {
     "name": "stdout",
     "output_type": "stream",
     "text": [
      "Take array input: 1 2\n",
      "Array:  [1, 2]\n"
     ]
    }
   ],
   "source": [
    "# using function for array input\n",
    "def lin():\n",
    "    return list(map(int, input(\"Take array input: \").strip().split()))\n",
    "\n",
    "a = lin()\n",
    "print(\"Array: \",a)"
   ]
  },
  {
   "cell_type": "code",
   "execution_count": 14,
   "id": "atomic-credit",
   "metadata": {},
   "outputs": [
    {
     "name": "stdout",
     "output_type": "stream",
     "text": [
      "Take array input: a b c d e\n",
      "Array:  ['a', 'b', 'c', 'd', 'e']\n"
     ]
    }
   ],
   "source": [
    "# using function for array input without Mapping\n",
    "def lin():\n",
    "    return list(input(\"Take array input: \").strip().split())\n",
    "\n",
    "a = lin()\n",
    "print(\"Array: \",a)"
   ]
  },
  {
   "cell_type": "code",
   "execution_count": 7,
   "id": "destroyed-ballet",
   "metadata": {},
   "outputs": [
    {
     "name": "stdout",
     "output_type": "stream",
     "text": [
      "1 2 3 4 5 6 7\n"
     ]
    },
    {
     "ename": "ValueError",
     "evalue": "invalid literal for int() with base 10: '1 2 3 4 5 6 7'",
     "output_type": "error",
     "traceback": [
      "\u001b[1;31m---------------------------------------------------------------------------\u001b[0m",
      "\u001b[1;31mValueError\u001b[0m                                Traceback (most recent call last)",
      "\u001b[1;32m<ipython-input-7-451cd175f9cc>\u001b[0m in \u001b[0;36m<module>\u001b[1;34m()\u001b[0m\n\u001b[0;32m      2\u001b[0m     \u001b[1;32mreturn\u001b[0m \u001b[0mlist\u001b[0m\u001b[1;33m(\u001b[0m\u001b[0mint\u001b[0m\u001b[1;33m(\u001b[0m\u001b[0minput\u001b[0m\u001b[1;33m(\u001b[0m\u001b[1;33m)\u001b[0m\u001b[1;33m)\u001b[0m\u001b[1;33m.\u001b[0m\u001b[0mstrip\u001b[0m\u001b[1;33m(\u001b[0m\u001b[1;33m)\u001b[0m\u001b[1;33m.\u001b[0m\u001b[0msplit\u001b[0m\u001b[1;33m(\u001b[0m\u001b[1;33m)\u001b[0m\u001b[1;33m)\u001b[0m\u001b[1;33m\u001b[0m\u001b[1;33m\u001b[0m\u001b[0m\n\u001b[0;32m      3\u001b[0m \u001b[1;33m\u001b[0m\u001b[0m\n\u001b[1;32m----> 4\u001b[1;33m \u001b[0ma\u001b[0m \u001b[1;33m=\u001b[0m \u001b[0mlin\u001b[0m\u001b[1;33m(\u001b[0m\u001b[1;33m)\u001b[0m\u001b[1;33m\u001b[0m\u001b[1;33m\u001b[0m\u001b[0m\n\u001b[0m\u001b[0;32m      5\u001b[0m \u001b[0mprint\u001b[0m\u001b[1;33m(\u001b[0m\u001b[0ma\u001b[0m\u001b[1;33m)\u001b[0m\u001b[1;33m\u001b[0m\u001b[1;33m\u001b[0m\u001b[0m\n",
      "\u001b[1;32m<ipython-input-7-451cd175f9cc>\u001b[0m in \u001b[0;36mlin\u001b[1;34m()\u001b[0m\n\u001b[0;32m      1\u001b[0m \u001b[1;32mdef\u001b[0m \u001b[0mlin\u001b[0m\u001b[1;33m(\u001b[0m\u001b[1;33m)\u001b[0m\u001b[1;33m:\u001b[0m\u001b[1;33m\u001b[0m\u001b[1;33m\u001b[0m\u001b[0m\n\u001b[1;32m----> 2\u001b[1;33m     \u001b[1;32mreturn\u001b[0m \u001b[0mlist\u001b[0m\u001b[1;33m(\u001b[0m\u001b[0mint\u001b[0m\u001b[1;33m(\u001b[0m\u001b[0minput\u001b[0m\u001b[1;33m(\u001b[0m\u001b[1;33m)\u001b[0m\u001b[1;33m)\u001b[0m\u001b[1;33m.\u001b[0m\u001b[0mstrip\u001b[0m\u001b[1;33m(\u001b[0m\u001b[1;33m)\u001b[0m\u001b[1;33m.\u001b[0m\u001b[0msplit\u001b[0m\u001b[1;33m(\u001b[0m\u001b[1;33m)\u001b[0m\u001b[1;33m)\u001b[0m\u001b[1;33m\u001b[0m\u001b[1;33m\u001b[0m\u001b[0m\n\u001b[0m\u001b[0;32m      3\u001b[0m \u001b[1;33m\u001b[0m\u001b[0m\n\u001b[0;32m      4\u001b[0m \u001b[0ma\u001b[0m \u001b[1;33m=\u001b[0m \u001b[0mlin\u001b[0m\u001b[1;33m(\u001b[0m\u001b[1;33m)\u001b[0m\u001b[1;33m\u001b[0m\u001b[1;33m\u001b[0m\u001b[0m\n\u001b[0;32m      5\u001b[0m \u001b[0mprint\u001b[0m\u001b[1;33m(\u001b[0m\u001b[0ma\u001b[0m\u001b[1;33m)\u001b[0m\u001b[1;33m\u001b[0m\u001b[1;33m\u001b[0m\u001b[0m\n",
      "\u001b[1;31mValueError\u001b[0m: invalid literal for int() with base 10: '1 2 3 4 5 6 7'"
     ]
    }
   ],
   "source": [
    "# def lin():\n",
    "#     return list(map(int, input().strip().split()))\n",
    "\n",
    "# a = lin()\n",
    "# print(a)"
   ]
  },
  {
   "cell_type": "markdown",
   "id": "owned-civilian",
   "metadata": {},
   "source": [
    "### Comprehension"
   ]
  },
  {
   "cell_type": "code",
   "execution_count": 8,
   "id": "digital-brother",
   "metadata": {},
   "outputs": [
    {
     "name": "stdout",
     "output_type": "stream",
     "text": [
      "2\n",
      "4\n"
     ]
    }
   ],
   "source": [
    "# normal method of creating anew list from existing list\n",
    "arr = [1, 2, 3, 4]\n",
    "for i in range(len(arr)):\n",
    "    if arr[i]%2==0:\n",
    "        print(arr[i])"
   ]
  },
  {
   "cell_type": "code",
   "execution_count": 16,
   "id": "clear-avatar",
   "metadata": {},
   "outputs": [
    {
     "data": {
      "text/plain": [
       "[2, 4]"
      ]
     },
     "execution_count": 16,
     "metadata": {},
     "output_type": "execute_result"
    }
   ],
   "source": [
    "# using comprehension\n",
    "arr = [1, 2, 3, 4] # arr[i] is output; for command is input; if command is condition\n",
    "lst = [arr[i] for i in range(len(arr)) if arr[i]%2==0] \n",
    "lst"
   ]
  },
  {
   "cell_type": "code",
   "execution_count": 17,
   "id": "intense-convertible",
   "metadata": {},
   "outputs": [
    {
     "data": {
      "text/plain": [
       "[2, 4]"
      ]
     },
     "execution_count": 17,
     "metadata": {},
     "output_type": "execute_result"
    }
   ],
   "source": [
    "# it can be shortened to this\n",
    "lst = [i for i in arr if i%2==0]\n",
    "lst"
   ]
  },
  {
   "cell_type": "code",
   "execution_count": 19,
   "id": "auburn-nature",
   "metadata": {},
   "outputs": [
    {
     "data": {
      "text/plain": [
       "{'name': 'Code Studio', 'age': 3}"
      ]
     },
     "execution_count": 19,
     "metadata": {},
     "output_type": "execute_result"
    }
   ],
   "source": [
    "# dictionary based comprehension\n",
    "index = ['name', 'age']\n",
    "data = ['Code Studio', 3] # dict = {'name': 'CS', 'age': 3}\n",
    "dictn = {i:d for i,d in zip(index, data)}\n",
    "\n",
    "dictn"
   ]
  },
  {
   "cell_type": "code",
   "execution_count": 22,
   "id": "legendary-jackson",
   "metadata": {},
   "outputs": [
    {
     "data": {
      "text/plain": [
       "{'Code Studio': 'name', 3: 'age'}"
      ]
     },
     "execution_count": 22,
     "metadata": {},
     "output_type": "execute_result"
    }
   ],
   "source": [
    "dictn = {i:d for i,d in zip(index, data)}\n",
    "\n",
    "dictn"
   ]
  },
  {
   "cell_type": "markdown",
   "id": "spare-broad",
   "metadata": {},
   "source": [
    "# File"
   ]
  },
  {
   "cell_type": "code",
   "execution_count": 21,
   "id": "sunrise-worth",
   "metadata": {},
   "outputs": [
    {
     "name": "stdout",
     "output_type": "stream",
     "text": [
      "We want to work on Data Science.\n"
     ]
    }
   ],
   "source": [
    "# read an already created file\n",
    "file = open(\"demo_file.txt\", 'r') # r means read mode\n",
    "content = file.read() # read file\n",
    "print(content) \n",
    "file.close() # close file"
   ]
  },
  {
   "cell_type": "code",
   "execution_count": 24,
   "id": "mechanical-nursing",
   "metadata": {},
   "outputs": [],
   "source": [
    "file = open(\"demo_file.txt\", 'a') # append mode\n",
    "file.write(\"\\nMachine Learning\")\n",
    "file.close()"
   ]
  },
  {
   "cell_type": "code",
   "execution_count": 25,
   "id": "wireless-nancy",
   "metadata": {},
   "outputs": [
    {
     "name": "stdout",
     "output_type": "stream",
     "text": [
      "We want to work on Data Science.\n",
      "Machine Learning\n",
      "Machine Learning\n",
      "Machine Learning\n"
     ]
    }
   ],
   "source": [
    "file = open(\"demo_file.txt\", 'r')\n",
    "content = file.read()\n",
    "print(content)\n",
    "file.close()"
   ]
  },
  {
   "cell_type": "code",
   "execution_count": 26,
   "id": "unlike-visitor",
   "metadata": {},
   "outputs": [
    {
     "name": "stdout",
     "output_type": "stream",
     "text": [
      "We wan\n"
     ]
    }
   ],
   "source": [
    "file = open(\"demo_file.txt\", 'r')\n",
    "content = file.read(6) # read first 6 character\n",
    "print(content)"
   ]
  },
  {
   "cell_type": "code",
   "execution_count": 27,
   "id": "transparent-utility",
   "metadata": {},
   "outputs": [
    {
     "name": "stdout",
     "output_type": "stream",
     "text": [
      "We want to work on Data Science.\n",
      "Machine Learning\n",
      "Machine Learning\n",
      "Machine Learning\n"
     ]
    }
   ],
   "source": [
    "# rewritten as\n",
    "with open(\"demo_file.txt\", 'r') as file:\n",
    "    content = file.read()\n",
    "    print(content)"
   ]
  },
  {
   "cell_type": "code",
   "execution_count": null,
   "id": "atomic-mambo",
   "metadata": {},
   "outputs": [],
   "source": []
  }
 ],
 "metadata": {
  "kernelspec": {
   "display_name": "Python 3 (ipykernel)",
   "language": "python",
   "name": "python3"
  },
  "language_info": {
   "codemirror_mode": {
    "name": "ipython",
    "version": 3
   },
   "file_extension": ".py",
   "mimetype": "text/x-python",
   "name": "python",
   "nbconvert_exporter": "python",
   "pygments_lexer": "ipython3",
   "version": "3.10.10"
  }
 },
 "nbformat": 4,
 "nbformat_minor": 5
}
