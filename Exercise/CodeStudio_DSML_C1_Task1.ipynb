{
 "cells": [
  {
   "cell_type": "markdown",
   "id": "b4c85863",
   "metadata": {},
   "source": [
    "# Display float number with 2 decimal places using print()."
   ]
  },
  {
   "cell_type": "code",
   "execution_count": 13,
   "id": "05ca111f",
   "metadata": {},
   "outputs": [
    {
     "name": "stdout",
     "output_type": "stream",
     "text": [
      "18.01\n"
     ]
    }
   ],
   "source": [
    "X = 18.01171\n",
    "print('%.2f'%X)"
   ]
  },
  {
   "cell_type": "markdown",
   "id": "dbcf993b",
   "metadata": {},
   "source": [
    "# Accept a list of float numbers as input from the user and display that."
   ]
  },
  {
   "cell_type": "code",
   "execution_count": 19,
   "id": "557a9354",
   "metadata": {},
   "outputs": [
    {
     "name": "stdout",
     "output_type": "stream",
     "text": [
      "List of float numbers: 1.1, 1.2, 1.3, 1.4, 1.5\n",
      "1.1, 1.2, 1.3, 1.4, 1.5\n"
     ]
    }
   ],
   "source": [
    "Float = input(\"List of float numbers: \")\n",
    "print(Float)"
   ]
  },
  {
   "cell_type": "markdown",
   "id": "1b549e66",
   "metadata": {},
   "source": [
    "# Print the First n natural numbers using a while loop."
   ]
  },
  {
   "cell_type": "code",
   "execution_count": 20,
   "id": "c61f4109",
   "metadata": {},
   "outputs": [
    {
     "name": "stdout",
     "output_type": "stream",
     "text": [
      "0\n",
      "1\n",
      "2\n",
      "3\n",
      "4\n",
      "5\n",
      "6\n",
      "7\n",
      "8\n",
      "9\n",
      "10\n"
     ]
    }
   ],
   "source": [
    "n = 0\n",
    "while n<=10:\n",
    "    print(n)\n",
    "    n+=1"
   ]
  },
  {
   "cell_type": "markdown",
   "id": "05e2b45c",
   "metadata": {},
   "source": [
    "# Display numbers from -n to -1 using for loop."
   ]
  },
  {
   "cell_type": "code",
   "execution_count": 28,
   "id": "6acef31e",
   "metadata": {},
   "outputs": [
    {
     "name": "stdout",
     "output_type": "stream",
     "text": [
      "-10\n",
      "-9\n",
      "-8\n",
      "-7\n",
      "-6\n",
      "-5\n",
      "-4\n",
      "-3\n",
      "-2\n",
      "-1\n"
     ]
    }
   ],
   "source": [
    "for n in range (-10,0,1):\n",
    "    print(n)"
   ]
  },
  {
   "cell_type": "markdown",
   "id": "aa8cd726",
   "metadata": {},
   "source": [
    "# Count the total number of digits in a number."
   ]
  },
  {
   "cell_type": "code",
   "execution_count": 36,
   "id": "833b178a",
   "metadata": {},
   "outputs": [
    {
     "name": "stdout",
     "output_type": "stream",
     "text": [
      "Number of digits: 7\n"
     ]
    }
   ],
   "source": [
    "n = 1801171\n",
    "count = 0\n",
    "\n",
    "while n!= 0:\n",
    "    n//= 10\n",
    "    count += 1\n",
    "\n",
    "print(\"Number of digits: \" + str(count))"
   ]
  },
  {
   "cell_type": "markdown",
   "id": "f2665ac3",
   "metadata": {},
   "source": [
    "# Print this: \n",
    "# 1 \n",
    "# 1 2\n",
    "# 1 2 3 \n",
    "# 1 2 3 4 \n",
    "# 1 2 3 4 5"
   ]
  },
  {
   "cell_type": "code",
   "execution_count": 37,
   "id": "d144a225",
   "metadata": {},
   "outputs": [
    {
     "name": "stdout",
     "output_type": "stream",
     "text": [
      "1 \n",
      "1 2 \n",
      "1 2 3 \n",
      "1 2 3 4 \n",
      "1 2 3 4 5 \n"
     ]
    }
   ],
   "source": [
    "n = 5\n",
    "for i in range(1, n+1):\n",
    "    for j in range(1, i+1):\n",
    "        print(j, end=' ')\n",
    "    print('')"
   ]
  },
  {
   "cell_type": "code",
   "execution_count": null,
   "id": "02e59261",
   "metadata": {},
   "outputs": [],
   "source": []
  }
 ],
 "metadata": {
  "kernelspec": {
   "display_name": "Python 3 (ipykernel)",
   "language": "python",
   "name": "python3"
  },
  "language_info": {
   "codemirror_mode": {
    "name": "ipython",
    "version": 3
   },
   "file_extension": ".py",
   "mimetype": "text/x-python",
   "name": "python",
   "nbconvert_exporter": "python",
   "pygments_lexer": "ipython3",
   "version": "3.10.10"
  }
 },
 "nbformat": 4,
 "nbformat_minor": 5
}
