{
 "cells": [
  {
   "cell_type": "markdown",
   "id": "96a8d938",
   "metadata": {},
   "source": [
    "## Area of Circle"
   ]
  },
  {
   "cell_type": "code",
   "execution_count": 20,
   "id": "5e72dd48",
   "metadata": {},
   "outputs": [
    {
     "name": "stdout",
     "output_type": "stream",
     "text": [
      "take radius as input: 1\n",
      "area is:  3.14159\n"
     ]
    }
   ],
   "source": [
    "r = float(input(\"take radius as input: \"))\n",
    "pi = 3.14159\n",
    "area = pi*(r**2)\n",
    "print(\"area is: \", area)"
   ]
  },
  {
   "cell_type": "markdown",
   "id": "1d3588ac",
   "metadata": {},
   "source": [
    "## Find largest number"
   ]
  },
  {
   "cell_type": "code",
   "execution_count": 21,
   "id": "9f7f37a5",
   "metadata": {},
   "outputs": [
    {
     "name": "stdout",
     "output_type": "stream",
     "text": [
      "First number: 7\n",
      "Second number: 1\n",
      "Third number: 5\n",
      "largest number:  7.0\n"
     ]
    }
   ],
   "source": [
    "A = float(input(\"First number: \"))\n",
    "B= float(input(\"Second number: \"))\n",
    "C= float(input(\"Third number: \"))\n",
    "\n",
    "if (A>B) and (A>C):\n",
    "    print(\"largest number: \",A)\n",
    "elif (B>A) and (B>C):\n",
    "    print(\"largest number: \",B)\n",
    "else:\n",
    "    print(\"largest number: \",C)"
   ]
  },
  {
   "cell_type": "markdown",
   "id": "0cdc9675",
   "metadata": {},
   "source": [
    "## Write a function to convert the vowels of a string into 1 and consonants into 0. For example: If the input is \"abcde\", the output will be \"10001\".\n"
   ]
  },
  {
   "cell_type": "code",
   "execution_count": 22,
   "id": "776d7bae",
   "metadata": {},
   "outputs": [
    {
     "name": "stdout",
     "output_type": "stream",
     "text": [
      "Enter the word: ashraf\n",
      "Encoded:  100010\n"
     ]
    }
   ],
   "source": [
    "def VC(string1):\n",
    "    vowels = \"aeiou\"\n",
    "    string2 = \"\"\n",
    "    for char in string1:\n",
    "        if char.lower() in vowels:\n",
    "            string2 += '1'\n",
    "        else:\n",
    "            string2 += '0'\n",
    "    return string2\n",
    "string1 = input(\"Enter the word: \")\n",
    "string2 = VC(string1)\n",
    "print(\"Encoded: \",string2)"
   ]
  },
  {
   "cell_type": "markdown",
   "id": "9bda67d1",
   "metadata": {},
   "source": [
    "## Repeat Input String"
   ]
  },
  {
   "cell_type": "code",
   "execution_count": 19,
   "id": "4d426b1e",
   "metadata": {},
   "outputs": [
    {
     "name": "stdout",
     "output_type": "stream",
     "text": [
      "take string input: hi\n",
      "Repeated string:  hihi\n"
     ]
    }
   ],
   "source": [
    "string = input(\"take string input: \")\n",
    "stringX = string*2\n",
    "print(\"Repeated string: \", stringX)"
   ]
  },
  {
   "cell_type": "code",
   "execution_count": null,
   "id": "6900de91",
   "metadata": {},
   "outputs": [],
   "source": []
  }
 ],
 "metadata": {
  "kernelspec": {
   "display_name": "Python 3 (ipykernel)",
   "language": "python",
   "name": "python3"
  },
  "language_info": {
   "codemirror_mode": {
    "name": "ipython",
    "version": 3
   },
   "file_extension": ".py",
   "mimetype": "text/x-python",
   "name": "python",
   "nbconvert_exporter": "python",
   "pygments_lexer": "ipython3",
   "version": "3.10.10"
  }
 },
 "nbformat": 4,
 "nbformat_minor": 5
}
