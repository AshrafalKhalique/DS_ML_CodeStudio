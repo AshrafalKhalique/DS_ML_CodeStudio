{
 "cells": [
  {
   "cell_type": "markdown",
   "id": "257bfc42",
   "metadata": {},
   "source": [
    "### If"
   ]
  },
  {
   "cell_type": "code",
   "execution_count": 1,
   "id": "terminal-protest",
   "metadata": {},
   "outputs": [
    {
     "name": "stdout",
     "output_type": "stream",
     "text": [
      "b\n"
     ]
    }
   ],
   "source": [
    "a = 10\n",
    "b = 50\n",
    "if a > b:\n",
    "    print(\"a\") # spacing before print is called indentation\n",
    "elif a==b:\n",
    "    print(\"equal\")\n",
    "else:\n",
    "    print(\"b\")"
   ]
  },
  {
   "cell_type": "code",
   "execution_count": 2,
   "id": "manual-exception",
   "metadata": {},
   "outputs": [
    {
     "name": "stdout",
     "output_type": "stream",
     "text": [
      "b\n"
     ]
    }
   ],
   "source": [
    "# nested if\n",
    "c = 15\n",
    "if a>b:\n",
    "    if a>c:\n",
    "        print(\"a\")\n",
    "    else:\n",
    "        print(\"c\")\n",
    "\n",
    "else:\n",
    "    if b>c:\n",
    "        print(\"b\")\n",
    "    else:\n",
    "        print(\"c\")"
   ]
  },
  {
   "cell_type": "markdown",
   "id": "original-apparel",
   "metadata": {},
   "source": [
    "### While"
   ]
  },
  {
   "cell_type": "code",
   "execution_count": 3,
   "id": "assumed-applicant",
   "metadata": {
    "scrolled": true
   },
   "outputs": [
    {
     "name": "stdout",
     "output_type": "stream",
     "text": [
      "1\n",
      "2\n",
      "3\n",
      "4\n",
      "5\n",
      "Done\n"
     ]
    }
   ],
   "source": [
    "n = 1\n",
    "while n <= 10: # >=\n",
    "    if n==6:\n",
    "        n = n + 1 # increment\n",
    "        break\n",
    "    print(n)\n",
    "    n = n + 1 # increment\n",
    "print(\"Done\")"
   ]
  },
  {
   "cell_type": "code",
   "execution_count": 4,
   "id": "aerial-stroke",
   "metadata": {},
   "outputs": [
    {
     "name": "stdout",
     "output_type": "stream",
     "text": [
      "1\n",
      "2\n",
      "3\n",
      "4\n",
      "5\n",
      "7\n",
      "8\n",
      "9\n",
      "10\n",
      "Done\n"
     ]
    }
   ],
   "source": [
    "n = 1\n",
    "\n",
    "while n <= 10: # >=\n",
    "    if n==6:\n",
    "        n = n + 1 # increment\n",
    "        continue\n",
    "    print(n)\n",
    "    n = n + 1\n",
    "print(\"Done\")"
   ]
  },
  {
   "cell_type": "markdown",
   "id": "8b6a28ca",
   "metadata": {},
   "source": [
    "### For"
   ]
  },
  {
   "cell_type": "code",
   "execution_count": 5,
   "id": "acting-attack",
   "metadata": {},
   "outputs": [
    {
     "name": "stdout",
     "output_type": "stream",
     "text": [
      "0\n",
      "1\n",
      "2\n",
      "3\n",
      "4\n",
      "5\n",
      "6\n",
      "7\n",
      "8\n",
      "9\n"
     ]
    }
   ],
   "source": [
    "for i in range(10):    # (0, 10, 1)   # (initialization, condition, post-statement)\n",
    "    print(i)           "
   ]
  },
  {
   "cell_type": "code",
   "execution_count": 6,
   "id": "simplified-buying",
   "metadata": {},
   "outputs": [
    {
     "name": "stdout",
     "output_type": "stream",
     "text": [
      "4\n",
      "6\n",
      "8\n"
     ]
    }
   ],
   "source": [
    "for i in range(4, 10, 2):   # (initialization, condition, post-statement)\n",
    "    print(i)"
   ]
  },
  {
   "cell_type": "code",
   "execution_count": 7,
   "id": "homeless-championship",
   "metadata": {},
   "outputs": [
    {
     "name": "stdout",
     "output_type": "stream",
     "text": [
      "tomato\n",
      "potato\n",
      "cauliflower\n"
     ]
    }
   ],
   "source": [
    "veg = ['tomato', 'potato', 'cauliflower']\n",
    "for v in veg:\n",
    "    print(v)"
   ]
  },
  {
   "cell_type": "code",
   "execution_count": 8,
   "id": "twelve-slovenia",
   "metadata": {},
   "outputs": [
    {
     "name": "stdout",
     "output_type": "stream",
     "text": [
      "a\n"
     ]
    },
    {
     "ename": "AttributeError",
     "evalue": "'str' object has no attribute 'values'",
     "output_type": "error",
     "traceback": [
      "\u001b[1;31m---------------------------------------------------------------------------\u001b[0m",
      "\u001b[1;31mAttributeError\u001b[0m                            Traceback (most recent call last)",
      "Cell \u001b[1;32mIn[8], line 4\u001b[0m\n\u001b[0;32m      2\u001b[0m \u001b[38;5;28;01mfor\u001b[39;00m letter \u001b[38;5;129;01min\u001b[39;00m \u001b[38;5;28mdict\u001b[39m:\n\u001b[0;32m      3\u001b[0m     \u001b[38;5;28mprint\u001b[39m(letter)\n\u001b[1;32m----> 4\u001b[0m     \u001b[38;5;28mprint\u001b[39m(\u001b[43mletter\u001b[49m\u001b[38;5;241;43m.\u001b[39;49m\u001b[43mvalues\u001b[49m)\n",
      "\u001b[1;31mAttributeError\u001b[0m: 'str' object has no attribute 'values'"
     ]
    }
   ],
   "source": [
    "dict = {'a': 'A', 'b': 'B', 'c': 'C', 'd': 'D'}\n",
    "for letter in dict:\n",
    "    print(letter)\n",
    "    print(letter.values)"
   ]
  },
  {
   "cell_type": "code",
   "execution_count": 9,
   "id": "novel-confusion",
   "metadata": {},
   "outputs": [
    {
     "name": "stdout",
     "output_type": "stream",
     "text": [
      "A\n",
      "B\n",
      "C\n",
      "D\n"
     ]
    }
   ],
   "source": [
    "dict = {'a': 'A', 'b': 'B', 'c': 'C', 'd': 'D'}\n",
    "for letter in dict.values():\n",
    "    print(letter)"
   ]
  },
  {
   "cell_type": "markdown",
   "id": "2fe42ff8",
   "metadata": {},
   "source": [
    "### Multiplication table using loop"
   ]
  },
  {
   "cell_type": "code",
   "execution_count": 10,
   "id": "spread-marathon",
   "metadata": {},
   "outputs": [
    {
     "name": "stdout",
     "output_type": "stream",
     "text": [
      "10 x 1 = 10\n",
      "10 x 2 = 20\n",
      "10 x 3 = 30\n",
      "10 x 4 = 40\n",
      "10 x 5 = 50\n",
      "10 x 6 = 60\n",
      "10 x 7 = 70\n",
      "10 x 8 = 80\n",
      "10 x 9 = 90\n",
      "10 x 10 = 100\n"
     ]
    }
   ],
   "source": [
    "m = 1\n",
    "n = 10\n",
    "while m <= 10: # True/False\n",
    "    print(n, 'x', m, '=', n*m)\n",
    "    m = m + 1"
   ]
  },
  {
   "cell_type": "code",
   "execution_count": 11,
   "id": "worst-happiness",
   "metadata": {},
   "outputs": [
    {
     "name": "stdout",
     "output_type": "stream",
     "text": [
      "1\n",
      "3\n",
      "5\n",
      "7\n"
     ]
    }
   ],
   "source": [
    "numbers = [1, 3, 5, 7, 9, 11]\n",
    "for n in numbers:\n",
    "    if n < 9:\n",
    "        print(n)"
   ]
  },
  {
   "cell_type": "code",
   "execution_count": 13,
   "id": "static-preview",
   "metadata": {},
   "outputs": [],
   "source": [
    "# Function\n",
    "def my_pet(name):  # parameter/input\n",
    "    return name    # output"
   ]
  },
  {
   "cell_type": "code",
   "execution_count": 14,
   "id": "headed-calibration",
   "metadata": {},
   "outputs": [
    {
     "data": {
      "text/plain": [
       "'tiger'"
      ]
     },
     "execution_count": 14,
     "metadata": {},
     "output_type": "execute_result"
    }
   ],
   "source": [
    "# calling the function\n",
    "t = my_pet(\"tiger\")\n",
    "t"
   ]
  },
  {
   "cell_type": "code",
   "execution_count": 15,
   "id": "august-latter",
   "metadata": {},
   "outputs": [
    {
     "data": {
      "text/plain": [
       "'tom'"
      ]
     },
     "execution_count": 15,
     "metadata": {},
     "output_type": "execute_result"
    }
   ],
   "source": [
    "# rewritten as\n",
    "my_pet(\"tom\")"
   ]
  },
  {
   "cell_type": "code",
   "execution_count": 16,
   "id": "olive-economics",
   "metadata": {},
   "outputs": [],
   "source": [
    "# multiple output, no parameter\n",
    "def country():   \n",
    "    print(\"BD\")\n",
    "    print(\"Bangla\")\n",
    "    print(\"CSA\")"
   ]
  },
  {
   "cell_type": "code",
   "execution_count": 17,
   "id": "accepting-practice",
   "metadata": {},
   "outputs": [
    {
     "name": "stdout",
     "output_type": "stream",
     "text": [
      "BD\n",
      "Bangla\n",
      "CSA\n"
     ]
    }
   ],
   "source": [
    "country()"
   ]
  },
  {
   "cell_type": "code",
   "execution_count": 18,
   "id": "practical-least",
   "metadata": {},
   "outputs": [
    {
     "name": "stdout",
     "output_type": "stream",
     "text": [
      "BD\n",
      "Bangla\n",
      "CSA\n"
     ]
    }
   ],
   "source": [
    "c = country()"
   ]
  },
  {
   "cell_type": "code",
   "execution_count": 19,
   "id": "ahead-brain",
   "metadata": {},
   "outputs": [],
   "source": [
    "# multiple input/variable/parameter\n",
    "def my_pet(name, age, color):    # parameter\n",
    "    return name, age, color    # output"
   ]
  },
  {
   "cell_type": "code",
   "execution_count": 20,
   "id": "subtle-resort",
   "metadata": {},
   "outputs": [],
   "source": [
    "name, age, color = my_pet('a', 18, 'blue')"
   ]
  },
  {
   "cell_type": "code",
   "execution_count": 21,
   "id": "broke-kingdom",
   "metadata": {},
   "outputs": [
    {
     "data": {
      "text/plain": [
       "18"
      ]
     },
     "execution_count": 21,
     "metadata": {},
     "output_type": "execute_result"
    }
   ],
   "source": [
    "age"
   ]
  },
  {
   "cell_type": "code",
   "execution_count": 22,
   "id": "fatty-adobe",
   "metadata": {},
   "outputs": [
    {
     "data": {
      "text/plain": [
       "('a', 18, 'blue')"
      ]
     },
     "execution_count": 22,
     "metadata": {},
     "output_type": "execute_result"
    }
   ],
   "source": [
    "tup = my_pet('a', 18, 'blue')\n",
    "tup"
   ]
  },
  {
   "cell_type": "code",
   "execution_count": 23,
   "id": "enabling-detail",
   "metadata": {},
   "outputs": [
    {
     "data": {
      "text/plain": [
       "('a', 18, 'yellow')"
      ]
     },
     "execution_count": 23,
     "metadata": {},
     "output_type": "execute_result"
    }
   ],
   "source": [
    "my_pet('a', 18, 'yellow')"
   ]
  },
  {
   "cell_type": "code",
   "execution_count": 24,
   "id": "neutral-twist",
   "metadata": {},
   "outputs": [],
   "source": [
    "def numbers(n): \n",
    "    n = 12    # local = value assigned inside function\n",
    "    return n\n",
    "\n",
    "n = 14        # global = value assigned outside function"
   ]
  },
  {
   "cell_type": "code",
   "execution_count": 25,
   "id": "behavioral-charlotte",
   "metadata": {},
   "outputs": [
    {
     "name": "stdout",
     "output_type": "stream",
     "text": [
      "0\n",
      "1\n",
      "2\n",
      "3\n",
      "4\n"
     ]
    }
   ],
   "source": [
    "def numbers(i): \n",
    "    i = 12         # local i\n",
    "    return i\n",
    "\n",
    "for i in range(5): # global i\n",
    "    print(i)"
   ]
  },
  {
   "cell_type": "code",
   "execution_count": 32,
   "id": "related-spring",
   "metadata": {},
   "outputs": [
    {
     "name": "stdout",
     "output_type": "stream",
     "text": [
      "10\n"
     ]
    }
   ],
   "source": [
    "def numbers(i): \n",
    "    i += 1       # i = i + 1, increment, local\n",
    "    return i\n",
    "\n",
    "i = 10          # global\n",
    "print(i)"
   ]
  },
  {
   "cell_type": "code",
   "execution_count": 33,
   "id": "middle-yemen",
   "metadata": {},
   "outputs": [
    {
     "data": {
      "text/plain": [
       "25"
      ]
     },
     "execution_count": 33,
     "metadata": {},
     "output_type": "execute_result"
    }
   ],
   "source": [
    "# Lambda Function\n",
    "def add(a, b):   # this generalized function format\n",
    "    return a+b\n",
    "\n",
    "sum = add(10, 15)\n",
    "sum"
   ]
  },
  {
   "cell_type": "code",
   "execution_count": 35,
   "id": "alive-letter",
   "metadata": {},
   "outputs": [
    {
     "data": {
      "text/plain": [
       "25"
      ]
     },
     "execution_count": 35,
     "metadata": {},
     "output_type": "execute_result"
    }
   ],
   "source": [
    "lambda_add = lambda a,b : a+b # this is lamda function\n",
    "lambda_add(10,15)"
   ]
  },
  {
   "cell_type": "code",
   "execution_count": 30,
   "id": "frank-gasoline",
   "metadata": {},
   "outputs": [
    {
     "name": "stdout",
     "output_type": "stream",
     "text": [
      "{1, 4, 9, 16, 25}\n"
     ]
    }
   ],
   "source": [
    "# Mapped iteraive process\n",
    "# Map -> Built-in Function\n",
    "l = [1, 2, 3, 4, 5]     # iterable object/list\n",
    "square = lambda n : n*n #iteration function\n",
    "\n",
    "new = map(square, l)\n",
    "m = set(new)     # list\n",
    "print(m)"
   ]
  },
  {
   "cell_type": "code",
   "execution_count": 31,
   "id": "eastern-saskatchewan",
   "metadata": {},
   "outputs": [
    {
     "name": "stdout",
     "output_type": "stream",
     "text": [
      "1\n",
      "4\n",
      "9\n",
      "16\n",
      "25\n"
     ]
    }
   ],
   "source": [
    "# normal iterative process\n",
    "l = [1, 2, 3, 4, 5]\n",
    "for i in l:\n",
    "    print(i*i)"
   ]
  },
  {
   "cell_type": "code",
   "execution_count": null,
   "id": "statistical-dutch",
   "metadata": {},
   "outputs": [],
   "source": []
  },
  {
   "cell_type": "code",
   "execution_count": null,
   "id": "264c5e4c",
   "metadata": {},
   "outputs": [],
   "source": []
  }
 ],
 "metadata": {
  "kernelspec": {
   "display_name": "Python 3 (ipykernel)",
   "language": "python",
   "name": "python3"
  },
  "language_info": {
   "codemirror_mode": {
    "name": "ipython",
    "version": 3
   },
   "file_extension": ".py",
   "mimetype": "text/x-python",
   "name": "python",
   "nbconvert_exporter": "python",
   "pygments_lexer": "ipython3",
   "version": "3.10.10"
  }
 },
 "nbformat": 4,
 "nbformat_minor": 5
}
