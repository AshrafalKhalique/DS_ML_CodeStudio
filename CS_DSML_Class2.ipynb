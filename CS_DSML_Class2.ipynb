{
 "cells": [
  {
   "cell_type": "markdown",
   "id": "147c561e",
   "metadata": {},
   "source": [
    "### Variables"
   ]
  },
  {
   "cell_type": "code",
   "execution_count": 10,
   "id": "d36c1b2c",
   "metadata": {},
   "outputs": [
    {
     "name": "stdout",
     "output_type": "stream",
     "text": [
      "4.1 2 2.1\n"
     ]
    }
   ],
   "source": [
    "X = 2     # '=' is assign operator\n",
    "Y = 2.1\n",
    "Z = X+Y\n",
    "print(Z,X,Y) # print result"
   ]
  },
  {
   "cell_type": "code",
   "execution_count": 11,
   "id": "9fce3101",
   "metadata": {},
   "outputs": [
    {
     "name": "stdout",
     "output_type": "stream",
     "text": [
      "Assign value = \n",
      "Ashraf\n"
     ]
    }
   ],
   "source": [
    "print(\"Assign value = \")\n",
    "W = input() # takes user input"
   ]
  },
  {
   "cell_type": "code",
   "execution_count": 12,
   "id": "68efc347",
   "metadata": {},
   "outputs": [
    {
     "name": "stdout",
     "output_type": "stream",
     "text": [
      "<class 'float'> <class 'int'> <class 'float'>\n"
     ]
    }
   ],
   "source": [
    "print(type(Z),type(X),type(Y)) # type() indicates data type"
   ]
  },
  {
   "cell_type": "code",
   "execution_count": 15,
   "id": "b4496763",
   "metadata": {},
   "outputs": [
    {
     "name": "stdout",
     "output_type": "stream",
     "text": [
      "2\n"
     ]
    }
   ],
   "source": [
    "Q = int(input()) # int() indicates Q will only take integer values as input"
   ]
  },
  {
   "cell_type": "markdown",
   "id": "7e5909a5",
   "metadata": {},
   "source": [
    "### Operator"
   ]
  },
  {
   "cell_type": "code",
   "execution_count": 22,
   "id": "596d2e50",
   "metadata": {},
   "outputs": [
    {
     "data": {
      "text/plain": [
       "1.05"
      ]
     },
     "execution_count": 22,
     "metadata": {},
     "output_type": "execute_result"
    }
   ],
   "source": [
    "Y/X # Division"
   ]
  },
  {
   "cell_type": "code",
   "execution_count": 18,
   "id": "48f1f2e0",
   "metadata": {},
   "outputs": [
    {
     "data": {
      "text/plain": [
       "1.0"
      ]
     },
     "execution_count": 18,
     "metadata": {},
     "output_type": "execute_result"
    }
   ],
   "source": [
    "Y//X # round off result"
   ]
  },
  {
   "cell_type": "code",
   "execution_count": 20,
   "id": "537a4c05",
   "metadata": {},
   "outputs": [
    {
     "data": {
      "text/plain": [
       "0.10000000000000009"
      ]
     },
     "execution_count": 20,
     "metadata": {},
     "output_type": "execute_result"
    }
   ],
   "source": [
    "Y%X # Modulus "
   ]
  },
  {
   "cell_type": "code",
   "execution_count": 21,
   "id": "2c8829e7",
   "metadata": {},
   "outputs": [
    {
     "data": {
      "text/plain": [
       "4"
      ]
     },
     "execution_count": 21,
     "metadata": {},
     "output_type": "execute_result"
    }
   ],
   "source": [
    "X**2 # Exponent"
   ]
  },
  {
   "cell_type": "code",
   "execution_count": 23,
   "id": "2359ee3f",
   "metadata": {},
   "outputs": [
    {
     "data": {
      "text/plain": [
       "4.2"
      ]
     },
     "execution_count": 23,
     "metadata": {},
     "output_type": "execute_result"
    }
   ],
   "source": [
    "Y*X # Multiplication"
   ]
  },
  {
   "cell_type": "markdown",
   "id": "74c69d1e",
   "metadata": {},
   "source": [
    "### Comparisons"
   ]
  },
  {
   "cell_type": "code",
   "execution_count": 24,
   "id": "5682b18b",
   "metadata": {},
   "outputs": [
    {
     "data": {
      "text/plain": [
       "False"
      ]
     },
     "execution_count": 24,
     "metadata": {},
     "output_type": "execute_result"
    }
   ],
   "source": [
    "X==Y # Equal"
   ]
  },
  {
   "cell_type": "code",
   "execution_count": 25,
   "id": "99390d08",
   "metadata": {},
   "outputs": [
    {
     "data": {
      "text/plain": [
       "True"
      ]
     },
     "execution_count": 25,
     "metadata": {},
     "output_type": "execute_result"
    }
   ],
   "source": [
    "X!=Y # Not equal"
   ]
  },
  {
   "cell_type": "code",
   "execution_count": 26,
   "id": "e0037e8a",
   "metadata": {},
   "outputs": [
    {
     "data": {
      "text/plain": [
       "False"
      ]
     },
     "execution_count": 26,
     "metadata": {},
     "output_type": "execute_result"
    }
   ],
   "source": [
    "X>Y  # Greater than\n",
    "X<Y  # Lesser than\n",
    "X<=Y # Greater than or equal\n",
    "X>=Y # Lesser than or equal"
   ]
  },
  {
   "cell_type": "markdown",
   "id": "11dd484d",
   "metadata": {},
   "source": [
    "### Logical"
   ]
  },
  {
   "cell_type": "code",
   "execution_count": 27,
   "id": "d6b57e99",
   "metadata": {},
   "outputs": [
    {
     "data": {
      "text/plain": [
       "False"
      ]
     },
     "execution_count": 27,
     "metadata": {},
     "output_type": "execute_result"
    }
   ],
   "source": [
    "a = 4\n",
    "b = 4\n",
    "c = 6\n",
    "\n",
    "a == b and b == c"
   ]
  },
  {
   "cell_type": "code",
   "execution_count": 28,
   "id": "86f1e76e",
   "metadata": {},
   "outputs": [
    {
     "data": {
      "text/plain": [
       "True"
      ]
     },
     "execution_count": 28,
     "metadata": {},
     "output_type": "execute_result"
    }
   ],
   "source": [
    "a == b or b == c"
   ]
  },
  {
   "cell_type": "code",
   "execution_count": 29,
   "id": "7807b138",
   "metadata": {},
   "outputs": [
    {
     "data": {
      "text/plain": [
       "False"
      ]
     },
     "execution_count": 29,
     "metadata": {},
     "output_type": "execute_result"
    }
   ],
   "source": [
    "not (a == b)"
   ]
  },
  {
   "cell_type": "markdown",
   "id": "95cb1ec3",
   "metadata": {},
   "source": [
    "### Membership"
   ]
  },
  {
   "cell_type": "code",
   "execution_count": 33,
   "id": "78d7d89a",
   "metadata": {},
   "outputs": [
    {
     "data": {
      "text/plain": [
       "False"
      ]
     },
     "execution_count": 33,
     "metadata": {},
     "output_type": "execute_result"
    }
   ],
   "source": [
    "\"1\" not in \"11\""
   ]
  },
  {
   "cell_type": "code",
   "execution_count": 31,
   "id": "951c2f5c",
   "metadata": {},
   "outputs": [
    {
     "data": {
      "text/plain": [
       "True"
      ]
     },
     "execution_count": 31,
     "metadata": {},
     "output_type": "execute_result"
    }
   ],
   "source": [
    "\"desh\" in \"Bangladesh\""
   ]
  },
  {
   "cell_type": "markdown",
   "id": "bd0309bf",
   "metadata": {},
   "source": [
    "### Identity"
   ]
  },
  {
   "cell_type": "code",
   "execution_count": 34,
   "id": "3d4ba091",
   "metadata": {},
   "outputs": [
    {
     "data": {
      "text/plain": [
       "True"
      ]
     },
     "execution_count": 34,
     "metadata": {},
     "output_type": "execute_result"
    }
   ],
   "source": [
    "a is b"
   ]
  },
  {
   "cell_type": "markdown",
   "id": "a57c79ff",
   "metadata": {},
   "source": [
    "## Data Structures"
   ]
  },
  {
   "cell_type": "code",
   "execution_count": 37,
   "id": "9ee9cc95",
   "metadata": {},
   "outputs": [],
   "source": [
    "# List\n",
    "list_1 = ['BUET', 'RUET', 'EWU', 'Brac'] # every data/value inside [] is called 'item'\n",
    "list_2 = [1, 2, 3, 4] # item inside [] is altogether called indexing, they start from count 0 "
   ]
  },
  {
   "cell_type": "code",
   "execution_count": 39,
   "id": "3470ebcf",
   "metadata": {},
   "outputs": [
    {
     "data": {
      "text/plain": [
       "'EWU'"
      ]
     },
     "execution_count": 39,
     "metadata": {},
     "output_type": "execute_result"
    }
   ],
   "source": [
    "list_1[2]"
   ]
  },
  {
   "cell_type": "code",
   "execution_count": 38,
   "id": "cce58d42",
   "metadata": {},
   "outputs": [
    {
     "data": {
      "text/plain": [
       "1"
      ]
     },
     "execution_count": 38,
     "metadata": {},
     "output_type": "execute_result"
    }
   ],
   "source": [
    "list_2[0]"
   ]
  },
  {
   "cell_type": "code",
   "execution_count": 42,
   "id": "f0d1a805",
   "metadata": {},
   "outputs": [
    {
     "data": {
      "text/plain": [
       "['BUET', 'RUET', 'EWU']"
      ]
     },
     "execution_count": 42,
     "metadata": {},
     "output_type": "execute_result"
    }
   ],
   "source": [
    "# Slicing lower<=index<upper\n",
    "list_1[0:3] "
   ]
  },
  {
   "cell_type": "code",
   "execution_count": 41,
   "id": "7bd57173",
   "metadata": {},
   "outputs": [
    {
     "data": {
      "text/plain": [
       "['RUET', 'EWU', 'Brac']"
      ]
     },
     "execution_count": 41,
     "metadata": {},
     "output_type": "execute_result"
    }
   ],
   "source": [
    "# this can also be rewritten as 'list_1[:3]' here we can ignore if our slicing starts from 0\n",
    "list_1[1:]"
   ]
  },
  {
   "cell_type": "code",
   "execution_count": 43,
   "id": "d53ac3f4",
   "metadata": {},
   "outputs": [
    {
     "data": {
      "text/plain": [
       "['BUET', 'RUET', 'EWU', 'Brac', 'NSU']"
      ]
     },
     "execution_count": 43,
     "metadata": {},
     "output_type": "execute_result"
    }
   ],
   "source": [
    "# update list\n",
    "list_1.append('NSU') # this will automatically add new item at the end\n",
    "list_1"
   ]
  },
  {
   "cell_type": "code",
   "execution_count": 44,
   "id": "78db9a34",
   "metadata": {},
   "outputs": [
    {
     "data": {
      "text/plain": [
       "['BUET', 'RUET', 'KUET', 'EWU', 'Brac', 'NSU']"
      ]
     },
     "execution_count": 44,
     "metadata": {},
     "output_type": "execute_result"
    }
   ],
   "source": [
    "list_1.insert(2, 'KUET') # this will add new item at our desired index\n",
    "list_1"
   ]
  },
  {
   "cell_type": "code",
   "execution_count": 45,
   "id": "eac5c10f",
   "metadata": {},
   "outputs": [
    {
     "data": {
      "text/plain": [
       "['BUET', 'RUET', 'KUET', 'EWU', 'Brac', 'NSU', 10, 20]"
      ]
     },
     "execution_count": 45,
     "metadata": {},
     "output_type": "execute_result"
    }
   ],
   "source": [
    "list_1.extend([10, 20]) # this will us to add more than one new item\n",
    "list_1"
   ]
  },
  {
   "cell_type": "code",
   "execution_count": 47,
   "id": "b7b5da7e",
   "metadata": {},
   "outputs": [
    {
     "data": {
      "text/plain": [
       "['BUET', 'RUET', 'KUET', 'EWU', 'Brac', 'NSU', 10, 20, 1, 2, 3, 4, 1, 2, 3, 4]"
      ]
     },
     "execution_count": 47,
     "metadata": {},
     "output_type": "execute_result"
    }
   ],
   "source": [
    "# Merge 2 lists\n",
    "list_1 + list_2"
   ]
  },
  {
   "cell_type": "code",
   "execution_count": 48,
   "id": "818a519f",
   "metadata": {},
   "outputs": [
    {
     "data": {
      "text/plain": [
       "['BUET', 'RUET', 'KUET', 'EWU', 'Brac', 'NSU', 10, 20, 1, 2, 3, 4, 1, 2, 3, 4]"
      ]
     },
     "execution_count": 48,
     "metadata": {},
     "output_type": "execute_result"
    }
   ],
   "source": [
    "# Rewritten as\n",
    "list_1.extend(list_2)\n",
    "list_1"
   ]
  },
  {
   "cell_type": "code",
   "execution_count": 49,
   "id": "95e09247",
   "metadata": {},
   "outputs": [
    {
     "data": {
      "text/plain": [
       "['BUET', 'RUET', 'KUET', 'EWU', 'Brac', 'NSU', 10]"
      ]
     },
     "execution_count": 49,
     "metadata": {},
     "output_type": "execute_result"
    }
   ],
   "source": [
    "# Remove items\n",
    "del list_1[7:] # mention the range of element we want to delete inside []\n",
    "list_1"
   ]
  },
  {
   "cell_type": "code",
   "execution_count": 50,
   "id": "bc54d00d",
   "metadata": {},
   "outputs": [
    {
     "data": {
      "text/plain": [
       "['BUET', 'RUET', 'KUET', 'EWU', 'Brac', 'NSU']"
      ]
     },
     "execution_count": 50,
     "metadata": {},
     "output_type": "execute_result"
    }
   ],
   "source": [
    "list_1.remove(10) # mention the element we want to delete inside ()\n",
    "list_1"
   ]
  },
  {
   "cell_type": "code",
   "execution_count": 51,
   "id": "ed4d5242",
   "metadata": {},
   "outputs": [
    {
     "data": {
      "text/plain": [
       "['BUET', 'RUET', 'KUET', 'EWU', 'NSU']"
      ]
     },
     "execution_count": 51,
     "metadata": {},
     "output_type": "execute_result"
    }
   ],
   "source": [
    "del list_1[-2] # mention the index of element we want to delete inside []\n",
    "list_1"
   ]
  },
  {
   "cell_type": "code",
   "execution_count": 55,
   "id": "0898f52f",
   "metadata": {},
   "outputs": [
    {
     "data": {
      "text/plain": [
       "['BUET', 'RUET', 'KUET']"
      ]
     },
     "execution_count": 55,
     "metadata": {},
     "output_type": "execute_result"
    }
   ],
   "source": [
    "list_1.pop() # remove last element\n",
    "list_1"
   ]
  },
  {
   "cell_type": "code",
   "execution_count": 56,
   "id": "47c60141",
   "metadata": {},
   "outputs": [
    {
     "data": {
      "text/plain": [
       "['BUET', 'RUET', 'KUET', 'RUET', 'RUET']"
      ]
     },
     "execution_count": 56,
     "metadata": {},
     "output_type": "execute_result"
    }
   ],
   "source": [
    "# inceament\n",
    "list_1 += ['RUET', 'RUET']  # list_1 = list_1 + ['RUET', 'RUET'] \n",
    "list_1"
   ]
  },
  {
   "cell_type": "code",
   "execution_count": 57,
   "id": "b4a71016",
   "metadata": {},
   "outputs": [
    {
     "data": {
      "text/plain": [
       "3"
      ]
     },
     "execution_count": 57,
     "metadata": {},
     "output_type": "execute_result"
    }
   ],
   "source": [
    "# element count\n",
    "list_1.count('RUET')"
   ]
  },
  {
   "cell_type": "code",
   "execution_count": 58,
   "id": "315b0fc2",
   "metadata": {},
   "outputs": [
    {
     "data": {
      "text/plain": [
       "['a', 'b', 'c', 'e']"
      ]
     },
     "execution_count": 58,
     "metadata": {},
     "output_type": "execute_result"
    }
   ],
   "source": [
    "# sorting\n",
    "list_3 = ['b', 'c', 'e', 'a']\n",
    "sorted(list_3)"
   ]
  },
  {
   "cell_type": "markdown",
   "id": "62d04f69",
   "metadata": {},
   "source": [
    "### Tuple"
   ]
  },
  {
   "cell_type": "code",
   "execution_count": 68,
   "id": "7ebf6953",
   "metadata": {},
   "outputs": [
    {
     "data": {
      "text/plain": [
       "(list, tuple)"
      ]
     },
     "execution_count": 68,
     "metadata": {},
     "output_type": "execute_result"
    }
   ],
   "source": [
    "tup = ('a', 'b', 'c', 'd')\n",
    "type(list_1), type(tup)"
   ]
  },
  {
   "cell_type": "code",
   "execution_count": 69,
   "id": "a0bd64f0",
   "metadata": {},
   "outputs": [
    {
     "data": {
      "text/plain": [
       "4"
      ]
     },
     "execution_count": 69,
     "metadata": {},
     "output_type": "execute_result"
    }
   ],
   "source": [
    "# length of tuple\n",
    "len(tup)"
   ]
  },
  {
   "cell_type": "code",
   "execution_count": 70,
   "id": "3cd50164",
   "metadata": {},
   "outputs": [
    {
     "data": {
      "text/plain": [
       "('a', 'b', 'c', 'd', 'e')"
      ]
     },
     "execution_count": 70,
     "metadata": {},
     "output_type": "execute_result"
    }
   ],
   "source": [
    "# update tuple\n",
    "tup = tup + ('e',)\n",
    "tup"
   ]
  },
  {
   "cell_type": "markdown",
   "id": "fbc3eed5",
   "metadata": {},
   "source": [
    "### Dictionary"
   ]
  },
  {
   "cell_type": "code",
   "execution_count": 71,
   "id": "5a1c46d1",
   "metadata": {},
   "outputs": [
    {
     "data": {
      "text/plain": [
       "'EWU'"
      ]
     },
     "execution_count": 71,
     "metadata": {},
     "output_type": "execute_result"
    }
   ],
   "source": [
    "dict = {'b': 'BUET', 'r': 'RUET', 'k': 'KUET', 'e': 'EWU', 'n': 'NSU'}\n",
    "dict['e']"
   ]
  },
  {
   "cell_type": "code",
   "execution_count": 72,
   "id": "27d48ab4",
   "metadata": {},
   "outputs": [
    {
     "data": {
      "text/plain": [
       "{'b': 'BUET', 'r': 'RUET', 'k': 'KUET', 'e': 'EWU', 'n': 'NSU', 'ru': 'RU'}"
      ]
     },
     "execution_count": 72,
     "metadata": {},
     "output_type": "execute_result"
    }
   ],
   "source": [
    "# update and inserting a new item\n",
    "dict['ru'] = 'RU' \n",
    "dict"
   ]
  },
  {
   "cell_type": "code",
   "execution_count": 73,
   "id": "e87a1186",
   "metadata": {},
   "outputs": [
    {
     "data": {
      "text/plain": [
       "dict_keys(['b', 'r', 'k', 'e', 'n', 'ru'])"
      ]
     },
     "execution_count": 73,
     "metadata": {},
     "output_type": "execute_result"
    }
   ],
   "source": [
    "dict.keys()"
   ]
  },
  {
   "cell_type": "code",
   "execution_count": 74,
   "id": "afbfe2c5",
   "metadata": {},
   "outputs": [
    {
     "data": {
      "text/plain": [
       "dict_values(['BUET', 'RUET', 'KUET', 'EWU', 'NSU', 'RU'])"
      ]
     },
     "execution_count": 74,
     "metadata": {},
     "output_type": "execute_result"
    }
   ],
   "source": [
    "dict.values()"
   ]
  },
  {
   "cell_type": "markdown",
   "id": "a92a2dd7",
   "metadata": {},
   "source": [
    "### Set"
   ]
  },
  {
   "cell_type": "code",
   "execution_count": 75,
   "id": "676175c6",
   "metadata": {},
   "outputs": [
    {
     "data": {
      "text/plain": [
       "{1, 2, 3, 4, 9}"
      ]
     },
     "execution_count": 75,
     "metadata": {},
     "output_type": "execute_result"
    }
   ],
   "source": [
    "s = {9, 1, 2, 3, 4, 4, 4}\n",
    "s"
   ]
  },
  {
   "cell_type": "markdown",
   "id": "7b2d8fa7",
   "metadata": {},
   "source": [
    "### String"
   ]
  },
  {
   "cell_type": "code",
   "execution_count": 76,
   "id": "aa6a08a7",
   "metadata": {},
   "outputs": [
    {
     "data": {
      "text/plain": [
       "\"Bangladesh is 'LOVE'. I love her.\""
      ]
     },
     "execution_count": 76,
     "metadata": {},
     "output_type": "execute_result"
    }
   ],
   "source": [
    "string = \"Bangladesh is 'LOVE'. I love her.\"\n",
    "string"
   ]
  },
  {
   "cell_type": "code",
   "execution_count": 77,
   "id": "374dcb10",
   "metadata": {},
   "outputs": [
    {
     "name": "stdout",
     "output_type": "stream",
     "text": [
      "Bangladesh is 'LOVE. I love her.\n"
     ]
    }
   ],
   "source": [
    "print(\"Bangladesh is 'LOVE.\", end=\" \")\n",
    "print(\"I love her.\")"
   ]
  },
  {
   "cell_type": "code",
   "execution_count": 78,
   "id": "ef5b9437",
   "metadata": {},
   "outputs": [
    {
     "name": "stdout",
     "output_type": "stream",
     "text": [
      "Bangladesh is 'LOVE.\t I love her.\n"
     ]
    }
   ],
   "source": [
    "# tab/4 spacing\n",
    "print(\"Bangladesh is 'LOVE.\", end=\"\\t\") \n",
    "print(\" I love her.\")"
   ]
  },
  {
   "cell_type": "code",
   "execution_count": 80,
   "id": "8b20ba9a",
   "metadata": {},
   "outputs": [
    {
     "name": "stdout",
     "output_type": "stream",
     "text": [
      "Bangladesh is 'LOVE.\n",
      "I love her.\n"
     ]
    }
   ],
   "source": [
    "# new line spacing\n",
    "print(\"Bangladesh is 'LOVE.\", end=\"\\n\")\n",
    "print(\"I love her.\")"
   ]
  },
  {
   "cell_type": "code",
   "execution_count": 81,
   "id": "36efe83b",
   "metadata": {},
   "outputs": [
    {
     "data": {
      "text/plain": [
       "'angla'"
      ]
     },
     "execution_count": 81,
     "metadata": {},
     "output_type": "execute_result"
    }
   ],
   "source": [
    "string[1:6]"
   ]
  },
  {
   "cell_type": "code",
   "execution_count": 86,
   "id": "a32500f1",
   "metadata": {},
   "outputs": [
    {
     "name": "stdout",
     "output_type": "stream",
     "text": [
      "Area of BD is:  147570 sq. km.\n"
     ]
    }
   ],
   "source": [
    "n = 147570\n",
    "string_2 = \"Area of BD is: \"\n",
    "print(string_2, n, \"sq. km.\")"
   ]
  },
  {
   "cell_type": "code",
   "execution_count": 85,
   "id": "f4b80016",
   "metadata": {},
   "outputs": [
    {
     "name": "stdout",
     "output_type": "stream",
     "text": [
      "Area of BD is: 147570 sq. km.\n"
     ]
    }
   ],
   "source": [
    "# rewrite as \n",
    "print(f\"{string_2}{n} sq. km.\")"
   ]
  },
  {
   "cell_type": "code",
   "execution_count": 87,
   "id": "a8519512",
   "metadata": {},
   "outputs": [
    {
     "data": {
      "text/plain": [
       "int"
      ]
     },
     "execution_count": 87,
     "metadata": {},
     "output_type": "execute_result"
    }
   ],
   "source": [
    "type(n)"
   ]
  },
  {
   "cell_type": "code",
   "execution_count": 88,
   "id": "ea7cff4a",
   "metadata": {},
   "outputs": [
    {
     "data": {
      "text/plain": [
       "'bangla-wash'"
      ]
     },
     "execution_count": 88,
     "metadata": {},
     "output_type": "execute_result"
    }
   ],
   "source": [
    "# string add\n",
    "s1 = 'bangla'\n",
    "s2 = 'wash'\n",
    "washed = s1 + '-' + s2 # bangla-wash\n",
    "washed"
   ]
  },
  {
   "cell_type": "code",
   "execution_count": 89,
   "id": "6bdbc81c",
   "metadata": {},
   "outputs": [
    {
     "data": {
      "text/plain": [
       "['b', 'ngl', '-w', 'sh']"
      ]
     },
     "execution_count": 89,
     "metadata": {},
     "output_type": "execute_result"
    }
   ],
   "source": [
    "# remove/split/delete character element from string\n",
    "washed.split('a')"
   ]
  },
  {
   "cell_type": "code",
   "execution_count": 90,
   "id": "3cda5ecf",
   "metadata": {},
   "outputs": [
    {
     "data": {
      "text/plain": [
       "7"
      ]
     },
     "execution_count": 90,
     "metadata": {},
     "output_type": "execute_result"
    }
   ],
   "source": [
    "# find beginning of a string\n",
    "washed.find(\"wash\")"
   ]
  },
  {
   "cell_type": "code",
   "execution_count": null,
   "id": "9f556d52",
   "metadata": {},
   "outputs": [],
   "source": []
  }
 ],
 "metadata": {
  "kernelspec": {
   "display_name": "Python 3 (ipykernel)",
   "language": "python",
   "name": "python3"
  },
  "language_info": {
   "codemirror_mode": {
    "name": "ipython",
    "version": 3
   },
   "file_extension": ".py",
   "mimetype": "text/x-python",
   "name": "python",
   "nbconvert_exporter": "python",
   "pygments_lexer": "ipython3",
   "version": "3.10.10"
  }
 },
 "nbformat": 4,
 "nbformat_minor": 5
}
